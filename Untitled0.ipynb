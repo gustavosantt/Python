{
  "nbformat": 4,
  "nbformat_minor": 0,
  "metadata": {
    "colab": {
      "provenance": [],
      "authorship_tag": "ABX9TyNIeLXSmiSm7rdK8GVS6YLe",
      "include_colab_link": true
    },
    "kernelspec": {
      "name": "python3",
      "display_name": "Python 3"
    },
    "language_info": {
      "name": "python"
    }
  },
  "cells": [
    {
      "cell_type": "markdown",
      "metadata": {
        "id": "view-in-github",
        "colab_type": "text"
      },
      "source": [
        "<a href=\"https://colab.research.google.com/github/gustavosantt/Python/blob/main/Untitled0.ipynb\" target=\"_parent\"><img src=\"https://colab.research.google.com/assets/colab-badge.svg\" alt=\"Open In Colab\"/></a>"
      ]
    },
    {
      "cell_type": "code",
      "execution_count": 49,
      "metadata": {
        "colab": {
          "base_uri": "https://localhost:8080/"
        },
        "id": "3qWR-epX7fYm",
        "outputId": "0d53d14a-1ccc-4ee6-96d8-c9bf14670305"
      },
      "outputs": [
        {
          "output_type": "stream",
          "name": "stdout",
          "text": [
            "['30140-958', '31630-959', '31630-960', '31630-961', '31630-962']\n"
          ]
        }
      ],
      "source": [
        "##criei uma pequena tabela com ceps\n",
        "import pandas as pd\n",
        "\n",
        "df = pd.read_csv('csv.csv')\n",
        "tbcep =df['ENTRADA CEP'].tolist()\n",
        "print(tbcep)\n",
        "\n"
      ]
    },
    {
      "cell_type": "code",
      "source": [
        "import json\n",
        "\n",
        "# importando meu json\n",
        "with open('swagger.json') as meujson:\n",
        "    sit = json.load(meujson)\n",
        "\n",
        "#informa o usuario que deve procurar o cep\n",
        "cep_procurado = input(\"Digite o CEP que deseja procurar: \")\n",
        "\n",
        "#condicao para verificar se o cep esta dentro do nosso json, caso não retornar o erro \"não encontrado no JSON\"\n",
        "if \"ceps\" in sit and cep_procurado in sit[\"ceps\"]:\n",
        "    print(f\"CEP {cep_procurado} encontrado .\")\n",
        "    print(f\"Ceps Disponiveis: {sit}\")\n",
        "else:\n",
        "    print(f\"CEP {cep_procurado} não encontrado.\")\n"
      ],
      "metadata": {
        "colab": {
          "base_uri": "https://localhost:8080/"
        },
        "id": "InWOaZF3FEt0",
        "outputId": "94acf97b-3c9e-44c7-cee6-3805e043bfea"
      },
      "execution_count": 58,
      "outputs": [
        {
          "output_type": "stream",
          "name": "stdout",
          "text": [
            "Digite o CEP que deseja procurar: 3403403043\n",
            "CEP 3403403043 não encontrado.\n"
          ]
        }
      ]
    },
    {
      "cell_type": "markdown",
      "source": [],
      "metadata": {
        "id": "EbGqZ3Cb8XFF"
      }
    }
  ]
}